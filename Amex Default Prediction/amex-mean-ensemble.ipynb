{
 "cells": [
  {
   "cell_type": "code",
   "execution_count": null,
   "id": "b37cb0ba",
   "metadata": {
    "papermill": {
     "duration": 0.004685,
     "end_time": "2022-07-26T05:09:59.539892",
     "exception": false,
     "start_time": "2022-07-26T05:09:59.535207",
     "status": "completed"
    },
    "tags": []
   },
   "outputs": [],
   "source": []
  },
  {
   "cell_type": "code",
   "execution_count": 1,
   "id": "d5f0fa90",
   "metadata": {
    "_cell_guid": "b1076dfc-b9ad-4769-8c92-a6c4dae69d19",
    "_uuid": "8f2839f25d086af736a60e9eeb907d3b93b6e0e5",
    "execution": {
     "iopub.execute_input": "2022-07-26T05:09:59.549598Z",
     "iopub.status.busy": "2022-07-26T05:09:59.549017Z",
     "iopub.status.idle": "2022-07-26T05:09:59.567060Z",
     "shell.execute_reply": "2022-07-26T05:09:59.566072Z"
    },
    "papermill": {
     "duration": 0.025863,
     "end_time": "2022-07-26T05:09:59.569462",
     "exception": false,
     "start_time": "2022-07-26T05:09:59.543599",
     "status": "completed"
    },
    "tags": []
   },
   "outputs": [
    {
     "name": "stdout",
     "output_type": "stream",
     "text": [
      "/kaggle/input/lgbm-predictions/pred_seed39_20220725-111412.csv\n",
      "/kaggle/input/lgbm-predictions/pred_seed42_20220725-105134.csv\n",
      "/kaggle/input/lgbm-predictions/pred_seed73_20220725-110638.csv\n",
      "/kaggle/input/amex-default-prediction/sample_submission.csv\n",
      "/kaggle/input/amex-default-prediction/train_data.csv\n",
      "/kaggle/input/amex-default-prediction/test_data.csv\n",
      "/kaggle/input/amex-default-prediction/train_labels.csv\n"
     ]
    }
   ],
   "source": [
    "# This Python 3 environment comes with many helpful analytics libraries installed\n",
    "# It is defined by the kaggle/python Docker image: https://github.com/kaggle/docker-python\n",
    "# For example, here's several helpful packages to load\n",
    "\n",
    "import numpy as np # linear algebra\n",
    "import pandas as pd # data processing, CSV file I/O (e.g. pd.read_csv)\n",
    "\n",
    "# Input data files are available in the read-only \"../input/\" directory\n",
    "# For example, running this (by clicking run or pressing Shift+Enter) will list all files under the input directory\n",
    "\n",
    "import os\n",
    "for dirname, _, filenames in os.walk('/kaggle/input'):\n",
    "    for filename in filenames:\n",
    "        print(os.path.join(dirname, filename))\n",
    "\n",
    "# You can write up to 20GB to the current directory (/kaggle/working/) that gets preserved as output when you create a version using \"Save & Run All\" \n",
    "# You can also write temporary files to /kaggle/temp/, but they won't be saved outside of the current session"
   ]
  },
  {
   "cell_type": "code",
   "execution_count": 2,
   "id": "aac65ec8",
   "metadata": {
    "execution": {
     "iopub.execute_input": "2022-07-26T05:09:59.575369Z",
     "iopub.status.busy": "2022-07-26T05:09:59.575033Z",
     "iopub.status.idle": "2022-07-26T05:10:05.178813Z",
     "shell.execute_reply": "2022-07-26T05:10:05.177541Z"
    },
    "papermill": {
     "duration": 5.609628,
     "end_time": "2022-07-26T05:10:05.181426",
     "exception": false,
     "start_time": "2022-07-26T05:09:59.571798",
     "status": "completed"
    },
    "tags": []
   },
   "outputs": [],
   "source": [
    "df1 = pd.read_csv('/kaggle/input/lgbm-predictions/pred_seed39_20220725-111412.csv')\n",
    "df2 = pd.read_csv('/kaggle/input/lgbm-predictions/pred_seed42_20220725-105134.csv')\n",
    "df3 = pd.read_csv('/kaggle/input/lgbm-predictions/pred_seed73_20220725-110638.csv')"
   ]
  },
  {
   "cell_type": "code",
   "execution_count": 3,
   "id": "27ef9d99",
   "metadata": {
    "execution": {
     "iopub.execute_input": "2022-07-26T05:10:05.188098Z",
     "iopub.status.busy": "2022-07-26T05:10:05.187163Z",
     "iopub.status.idle": "2022-07-26T05:10:08.735685Z",
     "shell.execute_reply": "2022-07-26T05:10:08.734896Z"
    },
    "papermill": {
     "duration": 3.554064,
     "end_time": "2022-07-26T05:10:08.737898",
     "exception": false,
     "start_time": "2022-07-26T05:10:05.183834",
     "status": "completed"
    },
    "tags": []
   },
   "outputs": [],
   "source": [
    "ensembled_pred_df = pd.DataFrame(columns = ['prediction']) \n",
    "for i in [df1,df2,df3]:\n",
    "    i['prediction'] = i['prediction']/3\n",
    "    ensembled_pred_df = pd.concat([ensembled_pred_df, i]).groupby(by='customer_ID',as_index=False).sum()\n",
    "\n"
   ]
  },
  {
   "cell_type": "code",
   "execution_count": 4,
   "id": "e033d57b",
   "metadata": {
    "execution": {
     "iopub.execute_input": "2022-07-26T05:10:08.745047Z",
     "iopub.status.busy": "2022-07-26T05:10:08.744503Z",
     "iopub.status.idle": "2022-07-26T05:10:08.760824Z",
     "shell.execute_reply": "2022-07-26T05:10:08.759795Z"
    },
    "papermill": {
     "duration": 0.022306,
     "end_time": "2022-07-26T05:10:08.763043",
     "exception": false,
     "start_time": "2022-07-26T05:10:08.740737",
     "status": "completed"
    },
    "tags": []
   },
   "outputs": [
    {
     "data": {
      "text/html": [
       "<div>\n",
       "<style scoped>\n",
       "    .dataframe tbody tr th:only-of-type {\n",
       "        vertical-align: middle;\n",
       "    }\n",
       "\n",
       "    .dataframe tbody tr th {\n",
       "        vertical-align: top;\n",
       "    }\n",
       "\n",
       "    .dataframe thead th {\n",
       "        text-align: right;\n",
       "    }\n",
       "</style>\n",
       "<table border=\"1\" class=\"dataframe\">\n",
       "  <thead>\n",
       "    <tr style=\"text-align: right;\">\n",
       "      <th></th>\n",
       "      <th>customer_ID</th>\n",
       "      <th>prediction</th>\n",
       "    </tr>\n",
       "  </thead>\n",
       "  <tbody>\n",
       "    <tr>\n",
       "      <th>0</th>\n",
       "      <td>00000469ba478561f23a92a868bd366de6f6527a684c9a...</td>\n",
       "      <td>0.025177</td>\n",
       "    </tr>\n",
       "    <tr>\n",
       "      <th>1</th>\n",
       "      <td>00001bf2e77ff879fab36aa4fac689b9ba411dae63ae39...</td>\n",
       "      <td>0.000783</td>\n",
       "    </tr>\n",
       "    <tr>\n",
       "      <th>2</th>\n",
       "      <td>0000210045da4f81e5f122c6bde5c2a617d03eef67f82c...</td>\n",
       "      <td>0.042287</td>\n",
       "    </tr>\n",
       "    <tr>\n",
       "      <th>3</th>\n",
       "      <td>00003b41e58ede33b8daf61ab56d9952f17c9ad1c3976c...</td>\n",
       "      <td>0.222259</td>\n",
       "    </tr>\n",
       "    <tr>\n",
       "      <th>4</th>\n",
       "      <td>00004b22eaeeeb0ec976890c1d9bfc14fd9427e98c4ee9...</td>\n",
       "      <td>0.860691</td>\n",
       "    </tr>\n",
       "    <tr>\n",
       "      <th>...</th>\n",
       "      <td>...</td>\n",
       "      <td>...</td>\n",
       "    </tr>\n",
       "    <tr>\n",
       "      <th>924616</th>\n",
       "      <td>ffff952c631f2c911b8a2a8ca56ea6e656309a83d2f64c...</td>\n",
       "      <td>0.013455</td>\n",
       "    </tr>\n",
       "    <tr>\n",
       "      <th>924617</th>\n",
       "      <td>ffffcf5df59e5e0bba2a5ac4578a34e2b5aa64a1546cd3...</td>\n",
       "      <td>0.829864</td>\n",
       "    </tr>\n",
       "    <tr>\n",
       "      <th>924618</th>\n",
       "      <td>ffffd61f098cc056dbd7d2a21380c4804bbfe60856f475...</td>\n",
       "      <td>0.456820</td>\n",
       "    </tr>\n",
       "    <tr>\n",
       "      <th>924619</th>\n",
       "      <td>ffffddef1fc3643ea179c93245b68dca0f36941cd83977...</td>\n",
       "      <td>0.266483</td>\n",
       "    </tr>\n",
       "    <tr>\n",
       "      <th>924620</th>\n",
       "      <td>fffffa7cf7e453e1acc6a1426475d5cb9400859f82ff61...</td>\n",
       "      <td>0.055646</td>\n",
       "    </tr>\n",
       "  </tbody>\n",
       "</table>\n",
       "<p>924621 rows × 2 columns</p>\n",
       "</div>"
      ],
      "text/plain": [
       "                                              customer_ID  prediction\n",
       "0       00000469ba478561f23a92a868bd366de6f6527a684c9a...    0.025177\n",
       "1       00001bf2e77ff879fab36aa4fac689b9ba411dae63ae39...    0.000783\n",
       "2       0000210045da4f81e5f122c6bde5c2a617d03eef67f82c...    0.042287\n",
       "3       00003b41e58ede33b8daf61ab56d9952f17c9ad1c3976c...    0.222259\n",
       "4       00004b22eaeeeb0ec976890c1d9bfc14fd9427e98c4ee9...    0.860691\n",
       "...                                                   ...         ...\n",
       "924616  ffff952c631f2c911b8a2a8ca56ea6e656309a83d2f64c...    0.013455\n",
       "924617  ffffcf5df59e5e0bba2a5ac4578a34e2b5aa64a1546cd3...    0.829864\n",
       "924618  ffffd61f098cc056dbd7d2a21380c4804bbfe60856f475...    0.456820\n",
       "924619  ffffddef1fc3643ea179c93245b68dca0f36941cd83977...    0.266483\n",
       "924620  fffffa7cf7e453e1acc6a1426475d5cb9400859f82ff61...    0.055646\n",
       "\n",
       "[924621 rows x 2 columns]"
      ]
     },
     "execution_count": 4,
     "metadata": {},
     "output_type": "execute_result"
    }
   ],
   "source": [
    "ensembled_pred_df"
   ]
  },
  {
   "cell_type": "code",
   "execution_count": 5,
   "id": "405abd46",
   "metadata": {
    "execution": {
     "iopub.execute_input": "2022-07-26T05:10:08.769513Z",
     "iopub.status.busy": "2022-07-26T05:10:08.769132Z",
     "iopub.status.idle": "2022-07-26T05:10:11.913130Z",
     "shell.execute_reply": "2022-07-26T05:10:11.912351Z"
    },
    "papermill": {
     "duration": 3.149759,
     "end_time": "2022-07-26T05:10:11.915486",
     "exception": false,
     "start_time": "2022-07-26T05:10:08.765727",
     "status": "completed"
    },
    "tags": []
   },
   "outputs": [],
   "source": [
    "import time\n",
    "timestr = time.strftime(\"%Y%m%d-%H%M%S\")\n",
    "ensembled_pred_df.to_csv(f'./pred_{timestr}.csv', index = False)"
   ]
  },
  {
   "cell_type": "code",
   "execution_count": null,
   "id": "40076270",
   "metadata": {
    "papermill": {
     "duration": 0.002096,
     "end_time": "2022-07-26T05:10:11.920094",
     "exception": false,
     "start_time": "2022-07-26T05:10:11.917998",
     "status": "completed"
    },
    "tags": []
   },
   "outputs": [],
   "source": []
  }
 ],
 "metadata": {
  "kernelspec": {
   "display_name": "Python 3",
   "language": "python",
   "name": "python3"
  },
  "language_info": {
   "codemirror_mode": {
    "name": "ipython",
    "version": 3
   },
   "file_extension": ".py",
   "mimetype": "text/x-python",
   "name": "python",
   "nbconvert_exporter": "python",
   "pygments_lexer": "ipython3",
   "version": "3.7.12"
  },
  "papermill": {
   "default_parameters": {},
   "duration": 21.701587,
   "end_time": "2022-07-26T05:10:12.643051",
   "environment_variables": {},
   "exception": null,
   "input_path": "__notebook__.ipynb",
   "output_path": "__notebook__.ipynb",
   "parameters": {},
   "start_time": "2022-07-26T05:09:50.941464",
   "version": "2.3.4"
  }
 },
 "nbformat": 4,
 "nbformat_minor": 5
}
