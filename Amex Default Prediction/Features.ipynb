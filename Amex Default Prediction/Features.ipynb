{
 "cells": [
  {
   "cell_type": "code",
   "execution_count": 1,
   "id": "af02a8f9-e7db-426e-97e0-586d4d794432",
   "metadata": {},
   "outputs": [],
   "source": [
    "#Import\n",
    "import gc\n",
    "import warnings\n",
    "warnings.filterwarnings('ignore')\n",
    "import numpy as np\n",
    "import pandas as pd\n",
    "from sklearn.preprocessing import LabelEncoder"
   ]
  },
  {
   "cell_type": "code",
   "execution_count": 2,
   "id": "085df516-bdfe-423a-93b4-8fa2ea116fe1",
   "metadata": {},
   "outputs": [],
   "source": [
    "#Read parquet\n",
    "train = pd.read_parquet(\"./data/train.parquet\")\n",
    "test = pd.read_parquet(\"./data/test.parquet\")\n",
    "train_labels = pd.read_csv(\"./data/train_labels.csv\")"
   ]
  },
  {
   "cell_type": "code",
   "execution_count": 3,
   "id": "a4cb7acb-72a9-4a45-bc64-c0d1c39820e7",
   "metadata": {},
   "outputs": [],
   "source": [
    "#Columns\n",
    "all_cols = [c for c in list(train.columns) if c not in ['customer_ID', 'S_2']]\n",
    "cat_cols = [\"B_30\",\"B_38\",\"D_114\",\"D_116\",\"D_117\",\"D_120\",\"D_126\",\"D_63\",\"D_64\",\"D_66\",\"D_68\"]\n",
    "num_cols = [col for col in all_cols if col not in cat_cols]"
   ]
  },
  {
   "cell_type": "code",
   "execution_count": 4,
   "id": "ff5812da-3c93-4458-ac93-f5379f1bac36",
   "metadata": {},
   "outputs": [
    {
     "name": "stdout",
     "output_type": "stream",
     "text": [
      "Count of unique customers: 458913\n",
      "Row count: 5531451\n",
      "Ratio = 0.08296430719534531\n"
     ]
    }
   ],
   "source": [
    "#Finding repetition\n",
    "customer_ID_count = train['customer_ID'].nunique()\n",
    "row_count = train.shape[0]\n",
    "\n",
    "print('Count of unique customers: {x}'.format(x=customer_ID_count))\n",
    "print('Row count: {x}'.format(x=row_count))\n",
    "print('Ratio = {x}'.format(x=customer_ID_count/row_count))"
   ]
  },
  {
   "cell_type": "code",
   "execution_count": null,
   "id": "d281f3fa-feb6-4ed8-a43a-f11b65293fc4",
   "metadata": {},
   "outputs": [],
   "source": [
    "#Exploration"
   ]
  },
  {
   "cell_type": "code",
   "execution_count": 5,
   "id": "978ea056-d127-4d50-9e44-dce137f5fb4d",
   "metadata": {},
   "outputs": [
    {
     "data": {
      "text/plain": [
       "0"
      ]
     },
     "execution_count": 5,
     "metadata": {},
     "output_type": "execute_result"
    }
   ],
   "source": [
    "gc.collect()"
   ]
  },
  {
   "cell_type": "code",
   "execution_count": 6,
   "id": "386afb60-9e7c-422d-8a81-0f1482ef21b1",
   "metadata": {},
   "outputs": [],
   "source": [
    "#Preprocessing and feature engineering\n",
    "for i in cat_cols:\n",
    "    encoder = LabelEncoder()\n",
    "    train[i] = encoder.fit_transform(train[i])\n",
    "    test[i] = encoder.transform(test[i])\n",
    "         "
   ]
  },
  {
   "cell_type": "code",
   "execution_count": 17,
   "id": "e401046e-1c81-47cd-817d-a01278409d3e",
   "metadata": {},
   "outputs": [],
   "source": [
    "def feature_engineering(df):\n",
    "    \n",
    "    df_num_agg = df.groupby('customer_ID')[num_cols].agg(['first', 'mean', 'std', 'min', 'max', 'last'])\n",
    "    df_num_agg.columns = ['_'.join(x) for x in df_num_agg.columns]\n",
    "    df_num_agg.reset_index(inplace=True)\n",
    "    '''\n",
    "    for col in df_num_agg:\n",
    "        if 'last' in col and col.replace('last', 'first') in df_num_agg:\n",
    "            df_num_agg[col + '_lag_sub'] = df_num_agg[col] - df_num_agg[col.replace('last', 'first')]\n",
    "            df_num_agg[col + '_lag_div'] = df_num_agg[col] / df_num_agg[col.replace('last', 'first')]\n",
    "    '''\n",
    "    num_cols_new = [c for c in list(df_num_agg.columns) if c != 'customer_ID']\n",
    "    df_num_agg[num_cols_new] = df_num_agg[num_cols_new].apply(pd.to_numeric, downcast = 'float')\n",
    "\n",
    "    df_cat_agg = df.groupby('customer_ID')[cat_cols].agg(['count','last','nunique']).astype('int32')\n",
    "    df_cat_agg.columns = ['_'.join(x) for x in df_cat_agg.columns]\n",
    "    df_cat_agg.reset_index(inplace=True)\n",
    "    \n",
    "    cat_cols_new = [c for c in list(df_cat_agg.columns) if c != 'customer_ID']\n",
    "    df_cat_agg[cat_cols_new] = df_cat_agg[cat_cols_new].apply(pd.to_numeric, downcast = 'unsigned')\n",
    "\n",
    "    df1 = df_num_agg.merge(df_cat_agg, how = 'inner', on = 'customer_ID')\n",
    "    del df_num_agg\n",
    "    del df_cat_agg\n",
    "    gc.collect()\n",
    "    \n",
    "    return df1\n",
    "\n",
    "    \n",
    "def preprocess(df, train = True):\n",
    "    \n",
    "    df1 = feature_engineering(df)\n",
    "    #df1 = compression(df1)\n",
    "    \n",
    "    if train:\n",
    "        df1 = pd.concat([df1, train_labels], axis=1)\n",
    "    \n",
    "    \n",
    "    return df1\n",
    "    \n",
    "    \n",
    "    \n",
    "    "
   ]
  },
  {
   "cell_type": "code",
   "execution_count": 18,
   "id": "e4c78dda-f0aa-48ce-807d-ea95e684eaac",
   "metadata": {},
   "outputs": [],
   "source": [
    "train_new = preprocess(train)\n",
    "test_new = preprocess(test, False)"
   ]
  },
  {
   "cell_type": "code",
   "execution_count": 20,
   "id": "0fdf3e96-5c2d-4c64-9bee-159585fd0e94",
   "metadata": {},
   "outputs": [],
   "source": [
    "seen = set()\n",
    "dupes = []\n",
    "for x in list(train_new.columns):\n",
    "    if x not in seen:\n",
    "        seen.add(x)\n",
    "    else:\n",
    "        dupes.append(x)"
   ]
  },
  {
   "cell_type": "code",
   "execution_count": 21,
   "id": "af1b44f8-fd44-45a3-a8f7-f7a99d73ad8e",
   "metadata": {},
   "outputs": [
    {
     "data": {
      "text/plain": [
       "['customer_ID']"
      ]
     },
     "execution_count": 21,
     "metadata": {},
     "output_type": "execute_result"
    }
   ],
   "source": [
    "dupes"
   ]
  },
  {
   "cell_type": "code",
   "execution_count": 20,
   "id": "40e0b8e9-b1b1-4228-8c80-b6615d460138",
   "metadata": {},
   "outputs": [],
   "source": [
    "train_new.drop(columns=train_new.columns[-2], \n",
    "        axis=1, \n",
    "        inplace=True)"
   ]
  },
  {
   "cell_type": "code",
   "execution_count": 21,
   "id": "2d706ee6-9098-41d2-8ab4-785212546abf",
   "metadata": {},
   "outputs": [],
   "source": [
    "train_new.to_parquet(\"./data/train_fe_compress.parquet\", compression=\"gzip\")\n",
    "test_new.to_parquet(\"./data/test_fe_compress.parquet\", compression=\"gzip\")"
   ]
  },
  {
   "cell_type": "code",
   "execution_count": null,
   "id": "3a69a9d3-bec9-484b-a84e-3cd0c183a60e",
   "metadata": {},
   "outputs": [],
   "source": []
  }
 ],
 "metadata": {
  "kernelspec": {
   "display_name": "Python 3 (ipykernel)",
   "language": "python",
   "name": "python3"
  },
  "language_info": {
   "codemirror_mode": {
    "name": "ipython",
    "version": 3
   },
   "file_extension": ".py",
   "mimetype": "text/x-python",
   "name": "python",
   "nbconvert_exporter": "python",
   "pygments_lexer": "ipython3",
   "version": "3.9.11"
  }
 },
 "nbformat": 4,
 "nbformat_minor": 5
}
