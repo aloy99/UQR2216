{
 "cells": [
  {
   "cell_type": "markdown",
   "metadata": {},
   "source": [
    "## Data Cleaning and Data Preparation"
   ]
  },
  {
   "cell_type": "code",
   "execution_count": 2,
   "metadata": {
    "scrolled": true
   },
   "outputs": [
    {
     "name": "stdout",
     "output_type": "stream",
     "text": [
      "Index(['cumcasesbypublishdate', 'cumvirustests',\n",
      "       'cumdailynsodeathsbydeathdate',\n",
      "       'cumpeoplevaccinatedcompletebypublishdate', 'cumadmissions',\n",
      "       'ftse100_open_price', 'close_price', 'high_price', 'low_price',\n",
      "       'volume', 'temperature_max_degc', 'tmin_degc', 'rain_mm', 'sun_hours',\n",
      "       'u.s._cases', 'u.s._deaths',\n",
      "       'https://coronavirus.data.gov.uk/details/download'],\n",
      "      dtype='object')\n"
     ]
    }
   ],
   "source": [
    "import warnings\n",
    "warnings.filterwarnings('ignore')\n",
    "import os\n",
    "os.chdir(os.environ['USERPROFILE'] + r\"\\UQR Thoughtful Learning\")\n",
    "\n",
    "import statsmodels.api as sm\n",
    "import pandas as pd\n",
    "from patsy import dmatrices\n",
    "\n",
    "#d = 1\n",
    "dt = pd.read_csv('Covid-19-UK.csv', index_col=0) #specifying 1st column as row labels (called 'index')\n",
    "#handle special variabes\n",
    "#del dt['random_index'] #variables to exclude\n",
    "dt.columns = dt.columns.str.replace(' ','_').str.lower()\n",
    "print(dt.columns)\n",
    "yname = 'cumdailynsodeathsbydeathdate' #target variable"
   ]
  },
  {
   "cell_type": "code",
   "execution_count": 3,
   "metadata": {},
   "outputs": [
    {
     "data": {
      "text/html": [
       "<div>\n",
       "<style scoped>\n",
       "    .dataframe tbody tr th:only-of-type {\n",
       "        vertical-align: middle;\n",
       "    }\n",
       "\n",
       "    .dataframe tbody tr th {\n",
       "        vertical-align: top;\n",
       "    }\n",
       "\n",
       "    .dataframe thead th {\n",
       "        text-align: right;\n",
       "    }\n",
       "</style>\n",
       "<table border=\"1\" class=\"dataframe\">\n",
       "  <thead>\n",
       "    <tr style=\"text-align: right;\">\n",
       "      <th></th>\n",
       "      <th>cumcasesbypublishdate</th>\n",
       "      <th>cumvirustests</th>\n",
       "      <th>cumdailynsodeathsbydeathdate</th>\n",
       "      <th>cumpeoplevaccinatedcompletebypublishdate</th>\n",
       "      <th>cumadmissions</th>\n",
       "      <th>ftse100_open_price</th>\n",
       "      <th>close_price</th>\n",
       "      <th>high_price</th>\n",
       "      <th>low_price</th>\n",
       "      <th>volume</th>\n",
       "      <th>temperature_max_degc</th>\n",
       "      <th>tmin_degc</th>\n",
       "      <th>rain_mm</th>\n",
       "      <th>sun_hours</th>\n",
       "      <th>u.s._cases</th>\n",
       "      <th>u.s._deaths</th>\n",
       "    </tr>\n",
       "    <tr>\n",
       "      <th>date</th>\n",
       "      <th></th>\n",
       "      <th></th>\n",
       "      <th></th>\n",
       "      <th></th>\n",
       "      <th></th>\n",
       "      <th></th>\n",
       "      <th></th>\n",
       "      <th></th>\n",
       "      <th></th>\n",
       "      <th></th>\n",
       "      <th></th>\n",
       "      <th></th>\n",
       "      <th></th>\n",
       "      <th></th>\n",
       "      <th></th>\n",
       "      <th></th>\n",
       "    </tr>\n",
       "  </thead>\n",
       "  <tbody>\n",
       "    <tr>\n",
       "      <th>2020-01-31</th>\n",
       "      <td>2.0</td>\n",
       "      <td>0.0</td>\n",
       "      <td>1.0</td>\n",
       "      <td>0.0</td>\n",
       "      <td>0.0</td>\n",
       "      <td>7381.96</td>\n",
       "      <td>7286.01</td>\n",
       "      <td>7398.34</td>\n",
       "      <td>7275.03</td>\n",
       "      <td>6.806234e+08</td>\n",
       "      <td>10.1</td>\n",
       "      <td>4.2</td>\n",
       "      <td>109.0</td>\n",
       "      <td>53.3</td>\n",
       "      <td>7.0</td>\n",
       "      <td>0.0</td>\n",
       "    </tr>\n",
       "    <tr>\n",
       "      <th>2020-02-01</th>\n",
       "      <td>2.0</td>\n",
       "      <td>0.0</td>\n",
       "      <td>1.0</td>\n",
       "      <td>0.0</td>\n",
       "      <td>0.0</td>\n",
       "      <td>7381.96</td>\n",
       "      <td>7286.01</td>\n",
       "      <td>7398.34</td>\n",
       "      <td>7275.03</td>\n",
       "      <td>6.806234e+08</td>\n",
       "      <td>10.1</td>\n",
       "      <td>4.2</td>\n",
       "      <td>109.0</td>\n",
       "      <td>53.3</td>\n",
       "      <td>8.0</td>\n",
       "      <td>0.0</td>\n",
       "    </tr>\n",
       "    <tr>\n",
       "      <th>2020-02-02</th>\n",
       "      <td>2.0</td>\n",
       "      <td>0.0</td>\n",
       "      <td>2.0</td>\n",
       "      <td>0.0</td>\n",
       "      <td>0.0</td>\n",
       "      <td>7381.96</td>\n",
       "      <td>7286.01</td>\n",
       "      <td>7398.34</td>\n",
       "      <td>7275.03</td>\n",
       "      <td>6.806234e+08</td>\n",
       "      <td>10.1</td>\n",
       "      <td>4.2</td>\n",
       "      <td>109.0</td>\n",
       "      <td>53.3</td>\n",
       "      <td>11.0</td>\n",
       "      <td>0.0</td>\n",
       "    </tr>\n",
       "    <tr>\n",
       "      <th>2020-02-03</th>\n",
       "      <td>2.0</td>\n",
       "      <td>0.0</td>\n",
       "      <td>2.0</td>\n",
       "      <td>0.0</td>\n",
       "      <td>0.0</td>\n",
       "      <td>7286.01</td>\n",
       "      <td>7326.31</td>\n",
       "      <td>7359.98</td>\n",
       "      <td>7285.16</td>\n",
       "      <td>6.250598e+08</td>\n",
       "      <td>10.1</td>\n",
       "      <td>4.2</td>\n",
       "      <td>109.0</td>\n",
       "      <td>53.3</td>\n",
       "      <td>11.0</td>\n",
       "      <td>0.0</td>\n",
       "    </tr>\n",
       "    <tr>\n",
       "      <th>2020-02-04</th>\n",
       "      <td>2.0</td>\n",
       "      <td>0.0</td>\n",
       "      <td>2.0</td>\n",
       "      <td>0.0</td>\n",
       "      <td>0.0</td>\n",
       "      <td>7326.31</td>\n",
       "      <td>7439.82</td>\n",
       "      <td>7442.08</td>\n",
       "      <td>7326.31</td>\n",
       "      <td>6.473267e+08</td>\n",
       "      <td>10.1</td>\n",
       "      <td>4.2</td>\n",
       "      <td>109.0</td>\n",
       "      <td>53.3</td>\n",
       "      <td>11.0</td>\n",
       "      <td>0.0</td>\n",
       "    </tr>\n",
       "    <tr>\n",
       "      <th>...</th>\n",
       "      <td>...</td>\n",
       "      <td>...</td>\n",
       "      <td>...</td>\n",
       "      <td>...</td>\n",
       "      <td>...</td>\n",
       "      <td>...</td>\n",
       "      <td>...</td>\n",
       "      <td>...</td>\n",
       "      <td>...</td>\n",
       "      <td>...</td>\n",
       "      <td>...</td>\n",
       "      <td>...</td>\n",
       "      <td>...</td>\n",
       "      <td>...</td>\n",
       "      <td>...</td>\n",
       "      <td>...</td>\n",
       "    </tr>\n",
       "    <tr>\n",
       "      <th>2021-03-15</th>\n",
       "      <td>4263527.0</td>\n",
       "      <td>104422879.0</td>\n",
       "      <td>149778.0</td>\n",
       "      <td>1663646.0</td>\n",
       "      <td>452720.0</td>\n",
       "      <td>6761.47</td>\n",
       "      <td>6749.70</td>\n",
       "      <td>6804.91</td>\n",
       "      <td>6723.67</td>\n",
       "      <td>6.543759e+08</td>\n",
       "      <td>9.5</td>\n",
       "      <td>2.9</td>\n",
       "      <td>68.0</td>\n",
       "      <td>54.5</td>\n",
       "      <td>29519341.0</td>\n",
       "      <td>535227.0</td>\n",
       "    </tr>\n",
       "    <tr>\n",
       "      <th>2021-03-16</th>\n",
       "      <td>4268821.0</td>\n",
       "      <td>105849755.0</td>\n",
       "      <td>149881.0</td>\n",
       "      <td>1759445.0</td>\n",
       "      <td>453160.0</td>\n",
       "      <td>6749.70</td>\n",
       "      <td>6803.61</td>\n",
       "      <td>6812.78</td>\n",
       "      <td>6749.64</td>\n",
       "      <td>8.333579e+08</td>\n",
       "      <td>9.5</td>\n",
       "      <td>2.9</td>\n",
       "      <td>68.0</td>\n",
       "      <td>54.5</td>\n",
       "      <td>29573782.0</td>\n",
       "      <td>536472.0</td>\n",
       "    </tr>\n",
       "    <tr>\n",
       "      <th>2021-03-17</th>\n",
       "      <td>4274579.0</td>\n",
       "      <td>107584947.0</td>\n",
       "      <td>149983.0</td>\n",
       "      <td>1879054.0</td>\n",
       "      <td>453606.0</td>\n",
       "      <td>6803.61</td>\n",
       "      <td>6762.67</td>\n",
       "      <td>6805.73</td>\n",
       "      <td>6753.82</td>\n",
       "      <td>8.270661e+08</td>\n",
       "      <td>9.5</td>\n",
       "      <td>2.9</td>\n",
       "      <td>68.0</td>\n",
       "      <td>54.5</td>\n",
       "      <td>29632723.0</td>\n",
       "      <td>537649.0</td>\n",
       "    </tr>\n",
       "    <tr>\n",
       "      <th>2021-03-18</th>\n",
       "      <td>4280882.0</td>\n",
       "      <td>109160007.0</td>\n",
       "      <td>150061.0</td>\n",
       "      <td>2011070.0</td>\n",
       "      <td>454055.0</td>\n",
       "      <td>6762.67</td>\n",
       "      <td>6779.68</td>\n",
       "      <td>6791.76</td>\n",
       "      <td>6740.53</td>\n",
       "      <td>8.094370e+08</td>\n",
       "      <td>9.5</td>\n",
       "      <td>2.9</td>\n",
       "      <td>68.0</td>\n",
       "      <td>54.5</td>\n",
       "      <td>29693583.0</td>\n",
       "      <td>539207.0</td>\n",
       "    </tr>\n",
       "    <tr>\n",
       "      <th>2021-03-19</th>\n",
       "      <td>4285684.0</td>\n",
       "      <td>110180128.0</td>\n",
       "      <td>150116.0</td>\n",
       "      <td>2136795.0</td>\n",
       "      <td>454436.0</td>\n",
       "      <td>6779.68</td>\n",
       "      <td>6708.71</td>\n",
       "      <td>6779.68</td>\n",
       "      <td>6664.56</td>\n",
       "      <td>1.796648e+09</td>\n",
       "      <td>9.5</td>\n",
       "      <td>2.9</td>\n",
       "      <td>68.0</td>\n",
       "      <td>54.5</td>\n",
       "      <td>29754181.0</td>\n",
       "      <td>540720.0</td>\n",
       "    </tr>\n",
       "  </tbody>\n",
       "</table>\n",
       "<p>414 rows × 16 columns</p>\n",
       "</div>"
      ],
      "text/plain": [
       "            cumcasesbypublishdate  cumvirustests  \\\n",
       "date                                               \n",
       "2020-01-31                    2.0            0.0   \n",
       "2020-02-01                    2.0            0.0   \n",
       "2020-02-02                    2.0            0.0   \n",
       "2020-02-03                    2.0            0.0   \n",
       "2020-02-04                    2.0            0.0   \n",
       "...                           ...            ...   \n",
       "2021-03-15              4263527.0    104422879.0   \n",
       "2021-03-16              4268821.0    105849755.0   \n",
       "2021-03-17              4274579.0    107584947.0   \n",
       "2021-03-18              4280882.0    109160007.0   \n",
       "2021-03-19              4285684.0    110180128.0   \n",
       "\n",
       "            cumdailynsodeathsbydeathdate  \\\n",
       "date                                       \n",
       "2020-01-31                           1.0   \n",
       "2020-02-01                           1.0   \n",
       "2020-02-02                           2.0   \n",
       "2020-02-03                           2.0   \n",
       "2020-02-04                           2.0   \n",
       "...                                  ...   \n",
       "2021-03-15                      149778.0   \n",
       "2021-03-16                      149881.0   \n",
       "2021-03-17                      149983.0   \n",
       "2021-03-18                      150061.0   \n",
       "2021-03-19                      150116.0   \n",
       "\n",
       "            cumpeoplevaccinatedcompletebypublishdate  cumadmissions  \\\n",
       "date                                                                  \n",
       "2020-01-31                                       0.0            0.0   \n",
       "2020-02-01                                       0.0            0.0   \n",
       "2020-02-02                                       0.0            0.0   \n",
       "2020-02-03                                       0.0            0.0   \n",
       "2020-02-04                                       0.0            0.0   \n",
       "...                                              ...            ...   \n",
       "2021-03-15                                 1663646.0       452720.0   \n",
       "2021-03-16                                 1759445.0       453160.0   \n",
       "2021-03-17                                 1879054.0       453606.0   \n",
       "2021-03-18                                 2011070.0       454055.0   \n",
       "2021-03-19                                 2136795.0       454436.0   \n",
       "\n",
       "            ftse100_open_price  close_price  high_price  low_price  \\\n",
       "date                                                                 \n",
       "2020-01-31             7381.96      7286.01     7398.34    7275.03   \n",
       "2020-02-01             7381.96      7286.01     7398.34    7275.03   \n",
       "2020-02-02             7381.96      7286.01     7398.34    7275.03   \n",
       "2020-02-03             7286.01      7326.31     7359.98    7285.16   \n",
       "2020-02-04             7326.31      7439.82     7442.08    7326.31   \n",
       "...                        ...          ...         ...        ...   \n",
       "2021-03-15             6761.47      6749.70     6804.91    6723.67   \n",
       "2021-03-16             6749.70      6803.61     6812.78    6749.64   \n",
       "2021-03-17             6803.61      6762.67     6805.73    6753.82   \n",
       "2021-03-18             6762.67      6779.68     6791.76    6740.53   \n",
       "2021-03-19             6779.68      6708.71     6779.68    6664.56   \n",
       "\n",
       "                  volume  temperature_max_degc  tmin_degc  rain_mm  sun_hours  \\\n",
       "date                                                                            \n",
       "2020-01-31  6.806234e+08                  10.1        4.2    109.0       53.3   \n",
       "2020-02-01  6.806234e+08                  10.1        4.2    109.0       53.3   \n",
       "2020-02-02  6.806234e+08                  10.1        4.2    109.0       53.3   \n",
       "2020-02-03  6.250598e+08                  10.1        4.2    109.0       53.3   \n",
       "2020-02-04  6.473267e+08                  10.1        4.2    109.0       53.3   \n",
       "...                  ...                   ...        ...      ...        ...   \n",
       "2021-03-15  6.543759e+08                   9.5        2.9     68.0       54.5   \n",
       "2021-03-16  8.333579e+08                   9.5        2.9     68.0       54.5   \n",
       "2021-03-17  8.270661e+08                   9.5        2.9     68.0       54.5   \n",
       "2021-03-18  8.094370e+08                   9.5        2.9     68.0       54.5   \n",
       "2021-03-19  1.796648e+09                   9.5        2.9     68.0       54.5   \n",
       "\n",
       "            u.s._cases  u.s._deaths  \n",
       "date                                 \n",
       "2020-01-31         7.0          0.0  \n",
       "2020-02-01         8.0          0.0  \n",
       "2020-02-02        11.0          0.0  \n",
       "2020-02-03        11.0          0.0  \n",
       "2020-02-04        11.0          0.0  \n",
       "...                ...          ...  \n",
       "2021-03-15  29519341.0     535227.0  \n",
       "2021-03-16  29573782.0     536472.0  \n",
       "2021-03-17  29632723.0     537649.0  \n",
       "2021-03-18  29693583.0     539207.0  \n",
       "2021-03-19  29754181.0     540720.0  \n",
       "\n",
       "[414 rows x 16 columns]"
      ]
     },
     "execution_count": 3,
     "metadata": {},
     "output_type": "execute_result"
    }
   ],
   "source": [
    "dt.drop(columns = [\"https://coronavirus.data.gov.uk/details/download\"], inplace = True)\n",
    "#Dropping useless col\n",
    "\n",
    "dt.dropna(subset = [yname], inplace = True) # Removing NA data which does not contain the dependent value\n",
    "dt = dt.iloc[1:]\n",
    "\n",
    "dt[[\"cumvirustests\", \"ftse100_open_price\", \"cumdailynsodeathsbydeathdate\", \"cumadmissions\", \"u.s._cases\", \"u.s._deaths\", \"close_price\", \"high_price\", \"low_price\", \"volume\", \"temperature_max_degc\", \"tmin_degc\", \"rain_mm\", \"sun_hours\"]] = dt[[\"cumvirustests\", \"ftse100_open_price\", \"cumdailynsodeathsbydeathdate\", \"cumadmissions\", \"u.s._cases\", \"u.s._deaths\", \"close_price\", \"high_price\", \"low_price\", \"volume\", \"temperature_max_degc\", \"tmin_degc\", \"rain_mm\", \"sun_hours\"]].fillna(method = \"ffill\")\n",
    "#Forward fill of missing values\n",
    "\n",
    "dt[[\"cumvirustests\", \"ftse100_open_price\", \"cumdailynsodeathsbydeathdate\", \"cumpeoplevaccinatedcompletebypublishdate\", \"cumadmissions\", \"u.s._cases\", \"u.s._deaths\", \"close_price\", \"high_price\", \"low_price\", \"volume\"]] = dt[[\"cumvirustests\", \"ftse100_open_price\", \"cumdailynsodeathsbydeathdate\", \"cumpeoplevaccinatedcompletebypublishdate\", \"cumadmissions\", \"u.s._cases\", \"u.s._deaths\", \"close_price\", \"high_price\", \"low_price\", \"volume\"]].fillna(value = 0)\n",
    "#Filling rest of values with 0\n",
    "\n",
    "initialdt = dt\n",
    "dt #Cleaning is completed by this stage\n",
    "\n"
   ]
  },
  {
   "cell_type": "markdown",
   "metadata": {},
   "source": [
    "## Selection of appropriate x and y variables"
   ]
  },
  {
   "cell_type": "code",
   "execution_count": 28,
   "metadata": {
    "scrolled": true
   },
   "outputs": [
    {
     "name": "stdout",
     "output_type": "stream",
     "text": [
      "Regress 'cumdailynsodeathsbydeathdate' on ['cumcasesbypublishdate', 'cumvirustests', 'cumadmissions', 'u.s._cases', 'u.s._deaths'] \n",
      "\n"
     ]
    }
   ],
   "source": [
    "import time\n",
    "stm = time.time()\n",
    "import os\n",
    "import pandas as pd\n",
    "from sklearn.model_selection import train_test_split\n",
    "from sklearn.metrics import mean_squared_error\n",
    "from sklearn.metrics import r2_score\n",
    "from sklearn.metrics import median_absolute_error\n",
    "import numpy as np\n",
    "import matplotlib.pyplot as plt\n",
    "import xgboost\n",
    "from sklearn import datasets, ensemble\n",
    "from sklearn.inspection import permutation_importance\n",
    "from sklearn.model_selection import cross_val_score\n",
    "from sklearn.model_selection import RepeatedKFold\n",
    "from xgboost import XGBRegressor\n",
    "from sklearn.model_selection import GridSearchCV\n",
    "\n",
    "yname = 'cumdailynsodeathsbydeathdate'\n",
    "xnames = ['cumcasesbypublishdate','cumvirustests','cumadmissions','u.s._cases','u.s._deaths']\n",
    "cols = xnames + [yname]\n",
    "d = initialdt[cols].select_dtypes(include='number').dropna(axis=0)\n",
    "\n",
    "X = d[xnames]\n",
    "y = d[yname]\n",
    "\n",
    "print(\"Regress '\" + y.name + \"' on\", list(X),'\\n')\n",
    "\n",
    "#split into training & testing sets"
   ]
  },
  {
   "cell_type": "code",
   "execution_count": 29,
   "metadata": {},
   "outputs": [],
   "source": [
    "data_dmatrix = xgboost.DMatrix(data=X,label=y)\n",
    "#forming datamatrix in xgboost's favoured format \n",
    "\n",
    "X_train, X_test, y_train, y_test = train_test_split(X, y, random_state=0)\n",
    "#splitting into train and test data"
   ]
  },
  {
   "cell_type": "code",
   "execution_count": 30,
   "metadata": {},
   "outputs": [
    {
     "name": "stdout",
     "output_type": "stream",
     "text": [
      "Mean Median Absolute Error: 83.394 (42.462)\n",
      "[ 33.25064087  89.19140625  58.67578125  37.359375    85.09375\n",
      "  98.0703125  117.96112061  72.421875    59.22265625 189.39453125\n",
      "  84.234375    62.64344788  46.8515625   59.8359375   69.7578125\n",
      " 167.625       66.8515625  126.8125      24.78125     71.45703125\n",
      "  46.35546875  24.203125   104.828125    46.94921875 187.875\n",
      " 105.7265625   87.90625     76.48828125 126.65625     73.3359375 ]\n"
     ]
    }
   ],
   "source": [
    "#defining base model\n",
    "model = XGBRegressor(silent=False, \n",
    "                      scale_pos_weight=1,\n",
    "                      learning_rate=0.01,  \n",
    "                      colsample_bytree = 0.4,\n",
    "                      subsample = 0.8, \n",
    "                      n_estimators=1000, \n",
    "                      reg_alpha = 0.3,\n",
    "                      max_depth=4, \n",
    "                      gamma=10)\n",
    "cv = RepeatedKFold(n_splits=10, n_repeats=3, random_state=1)\n",
    "#evaluating model using repeated k-fold cross validation\n",
    "scores = cross_val_score(model, X_train, y_train, scoring='neg_median_absolute_error', cv=cv, n_jobs=-1)\n",
    "#force scores to be positive\n",
    "scores = np.absolute(scores)\n",
    "print('Mean Median Absolute Error: %.3f (%.3f)' % (scores.mean(), scores.std()) )\n",
    "#mean MAE and standard dev of MAE\n",
    "print(scores)\n",
    "#showing MAE for all CV runs"
   ]
  },
  {
   "cell_type": "code",
   "execution_count": 31,
   "metadata": {},
   "outputs": [],
   "source": [
    "model.fit(X_train, y_train)\n",
    "y_pred = model.predict(X_test)\n",
    "#fitting and predicting w model"
   ]
  },
  {
   "cell_type": "code",
   "execution_count": 32,
   "metadata": {},
   "outputs": [
    {
     "name": "stdout",
     "output_type": "stream",
     "text": [
      "The root mean squared error (RMSE) on test set: 503.0514\n",
      "R² of y test against y predict = 0.9998501078751106\n",
      "Median absolute error of y test against y predict = 72.4921875\n"
     ]
    }
   ],
   "source": [
    "rmse = np.sqrt(mean_squared_error(y_test, y_pred))\n",
    "print(\"The root mean squared error (RMSE) on test set: {:.4f}\".format(rmse))\n",
    "r2_test = r2_score(y_test,y_pred)\n",
    "print('R² of y test against y predict =', r2_test)\n",
    "mae = median_absolute_error(y_test, y_pred)\n",
    "print('Median absolute error of y test against y predict =', mae)"
   ]
  },
  {
   "cell_type": "code",
   "execution_count": 33,
   "metadata": {},
   "outputs": [
    {
     "name": "stdout",
     "output_type": "stream",
     "text": [
      "Fitting 5 folds for each of 1296 candidates, totalling 6480 fits\n"
     ]
    },
    {
     "name": "stderr",
     "output_type": "stream",
     "text": [
      "[Parallel(n_jobs=-1)]: Using backend LokyBackend with 8 concurrent workers.\n",
      "[Parallel(n_jobs=-1)]: Done  34 tasks      | elapsed:   31.4s\n",
      "[Parallel(n_jobs=-1)]: Done 184 tasks      | elapsed:  2.6min\n",
      "[Parallel(n_jobs=-1)]: Done 434 tasks      | elapsed:  6.3min\n",
      "[Parallel(n_jobs=-1)]: Done 784 tasks      | elapsed: 11.4min\n",
      "[Parallel(n_jobs=-1)]: Done 1234 tasks      | elapsed: 18.7min\n",
      "[Parallel(n_jobs=-1)]: Done 1784 tasks      | elapsed: 27.1min\n",
      "[Parallel(n_jobs=-1)]: Done 2434 tasks      | elapsed: 39.0min\n",
      "[Parallel(n_jobs=-1)]: Done 3184 tasks      | elapsed: 50.8min\n",
      "[Parallel(n_jobs=-1)]: Done 4034 tasks      | elapsed: 64.3min\n",
      "[Parallel(n_jobs=-1)]: Done 4984 tasks      | elapsed: 100.6min\n",
      "[Parallel(n_jobs=-1)]: Done 6034 tasks      | elapsed: 120.7min\n",
      "[Parallel(n_jobs=-1)]: Done 6480 out of 6480 | elapsed: 129.3min finished\n"
     ]
    },
    {
     "name": "stdout",
     "output_type": "stream",
     "text": [
      "-65.43973655700684\n",
      "{'colsample_bytree': 1.0, 'gamma': 0, 'learning_rate': 0.01, 'max_depth': 15, 'min_child_weight': 4, 'n_estimators': 5000, 'silent': 1, 'subsample': 0.5}\n"
     ]
    }
   ],
   "source": [
    "#hyperparameter tuning\n",
    "xgb1 = XGBRegressor()\n",
    "parameters = {'learning_rate': [0.01, 0.05, 0.1], #so called `eta` value\n",
    "              'max_depth': [12, 13, 14, 15],\n",
    "              'min_child_weight': [4],\n",
    "              'silent': [1],\n",
    "              'subsample': [0.4, 0.5, 0.6],\n",
    "              'colsample_bytree': [0.7, 0.8, 0.9, 1.0],\n",
    "              'n_estimators': [5000, 10000, 15000],\n",
    "              'gamma': [0, 1, 5]}\n",
    "\n",
    "xgb_grid = GridSearchCV(xgb1,\n",
    "                        parameters,\n",
    "                        n_jobs = -1,\n",
    "                        scoring='neg_median_absolute_error',\n",
    "                        verbose=True)\n",
    "#using GridSearch with CV as evaluation, to select best hyperparameterse for XGB regression\n",
    "\n",
    "xgb_grid.fit(X_train,\n",
    "         y_train)\n",
    "\n",
    "print(xgb_grid.best_score_)\n",
    "print(xgb_grid.best_params_)\n",
    "#prints the best score and parameters\n",
    "#do not run this cell on subsequent runs, takes damn long lol "
   ]
  },
  {
   "cell_type": "code",
   "execution_count": 34,
   "metadata": {},
   "outputs": [
    {
     "name": "stdout",
     "output_type": "stream",
     "text": [
      "Fitting 5 folds for each of 9 candidates, totalling 45 fits\n"
     ]
    },
    {
     "name": "stderr",
     "output_type": "stream",
     "text": [
      "[Parallel(n_jobs=-1)]: Using backend LokyBackend with 8 concurrent workers.\n",
      "[Parallel(n_jobs=-1)]: Done  45 out of  45 | elapsed:   21.7s finished\n"
     ]
    },
    {
     "name": "stdout",
     "output_type": "stream",
     "text": [
      "-69.699609375\n",
      "{'colsample_bytree': 0.8, 'gamma': 0, 'learning_rate': 0.01, 'max_depth': 11, 'min_child_weight': 4, 'n_estimators': 6000, 'silent': 1, 'subsample': 0.5}\n"
     ]
    }
   ],
   "source": [
    "#further tuning with MAE scoring\n",
    "xgb1 = XGBRegressor()\n",
    "parameters = {'learning_rate': [0.01], #so called `eta` value\n",
    "              'max_depth': [10, 11, 12],\n",
    "              'min_child_weight': [4],\n",
    "              'silent': [1],\n",
    "              'subsample': [0.5],\n",
    "              'colsample_bytree': [0.8],\n",
    "              'n_estimators': [4000, 5000, 6000],\n",
    "              'gamma': [0]}\n",
    "\n",
    "xgb_grid = GridSearchCV(xgb1,\n",
    "                        parameters,\n",
    "                        n_jobs = -1,\n",
    "                        verbose=True,\n",
    "                        scoring='neg_median_absolute_error')\n",
    "#using GridSearch with CV as evaluation, to select best hyperparameters for XGB regression\n",
    "\n",
    "xgb_grid.fit(X_train,y_train)\n",
    "\n",
    "print(xgb_grid.best_score_)\n",
    "print(xgb_grid.best_params_)\n",
    "#prints the best score and parameters\n",
    "#do not run this cell on subsequent runs, takes damn long lol "
   ]
  },
  {
   "cell_type": "code",
   "execution_count": 35,
   "metadata": {},
   "outputs": [
    {
     "name": "stdout",
     "output_type": "stream",
     "text": [
      "Mean MAE: 73.624 (43.788)\n",
      "[ 46.98828125  55.91796875  33.546875    36.734375    41.90625\n",
      "  85.8125      67.125       51.8046875   66.84375    144.2421875\n",
      "  71.5078125   60.109375   111.71484375  53.5078125   63.4609375\n",
      " 209.68359375  65.5625     132.1796875   33.203125    69.578125\n",
      "  64.75        22.75       115.28125     47.234375   188.73828125\n",
      "  65.7109375   52.609375    66.4296875   49.09375     34.703125  ]\n"
     ]
    }
   ],
   "source": [
    "model_best = XGBRegressor(colsample_bytree=0.8, gamma=0, learning_rate=0.01, max_depth=12, min_child_weight=4, n_estimators=6000, silent=1, subsample=0.5)\n",
    "#running model with best hyperparameterse\n",
    "\n",
    "\n",
    "scores = cross_val_score(model_best, X_train, y_train, scoring='neg_median_absolute_error', cv=cv, n_jobs=-1)\n",
    "scores = np.absolute(scores)\n",
    "print('Mean MAE: %.3f (%.3f)' % (scores.mean(), scores.std()) )\n",
    "print(scores)"
   ]
  },
  {
   "cell_type": "code",
   "execution_count": 36,
   "metadata": {},
   "outputs": [],
   "source": [
    "model_best.fit(X_train, y_train)\n",
    "y_pred_best = model_best.predict(X_test)"
   ]
  },
  {
   "cell_type": "code",
   "execution_count": 37,
   "metadata": {},
   "outputs": [
    {
     "name": "stdout",
     "output_type": "stream",
     "text": [
      "The root mean squared error (RMSE) on test set: 262.4308\n",
      "R² of y test against y predict = 0.9999592071962834\n",
      "Median absolute error of y test against y predict = 74.173828125\n"
     ]
    }
   ],
   "source": [
    "rmse_best = np.sqrt(mean_squared_error(y_test, y_pred_best))\n",
    "print(\"The root mean squared error (RMSE) on test set: {:.4f}\".format(rmse_best))\n",
    "r2_test_best = r2_score(y_test,y_pred_best)\n",
    "print('R² of y test against y predict =', r2_test_best)\n",
    "mae_best = median_absolute_error(y_test, y_pred_best)\n",
    "print('Median absolute error of y test against y predict =', mae_best)"
   ]
  },
  {
   "cell_type": "code",
   "execution_count": 38,
   "metadata": {},
   "outputs": [
    {
     "data": {
      "image/png": "[encoded data removed]",
      "text/plain": [
       "<Figure size 432x288 with 1 Axes>"
      ]
     },
     "metadata": {
      "needs_background": "light"
     },
     "output_type": "display_data"
    }
   ],
   "source": [
    "xgboost.plot_importance(model_best)\n",
    "plt.show()"
   ]
  },
  {
   "cell_type": "code",
   "execution_count": 39,
   "metadata": {
    "scrolled": true
   },
   "outputs": [
    {
     "data": {
      "image/png": "[encoded data removed]",
      "text/plain": [
       "<Figure size 432x288 with 1 Axes>"
      ]
     },
     "metadata": {
      "needs_background": "light"
     },
     "output_type": "display_data"
    }
   ],
   "source": [
    "plt.scatter(y=y_pred_best, x=y_test)\n",
    "plt.title('Predicted vs actual daily deaths')\n",
    "plt.ylabel('Predicted daily deaths')\n",
    "plt.xlabel('Actual daily deaths')\n",
    "\n",
    "lineStart = 0\n",
    "lineEnd = 600\n",
    "plt.plot([lineStart, lineEnd], [lineStart, lineEnd], 'k-', color = 'g', label='y=x')\n",
    "plt.xlim(lineStart, lineEnd)\n",
    "plt.ylim(lineStart, lineEnd)\n",
    "plt.axis('square')\n",
    "plt.grid()\n",
    "plt.legend(loc='upper left')\n",
    "plt.rcParams[\"figure.figsize\"] = [6.000, 6.145] # for square plot\n",
    "# height for scrollable output window below program lines:"
   ]
  }
 ],
 "metadata": {
  "kernelspec": {
   "display_name": "Python 3",
   "language": "python",
   "name": "python3"
  },
  "language_info": {
   "codemirror_mode": {
    "name": "ipython",
    "version": 3
   },
   "file_extension": ".py",
   "mimetype": "text/x-python",
   "name": "python",
   "nbconvert_exporter": "python",
   "pygments_lexer": "ipython3",
   "version": "3.8.5"
  }
 },
 "nbformat": 4,
 "nbformat_minor": 4
}
